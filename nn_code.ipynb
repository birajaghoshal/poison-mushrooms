{
 "cells": [
  {
   "cell_type": "code",
   "execution_count": 1,
   "metadata": {
    "colab": {
     "base_uri": "https://localhost:8080/",
     "height": 51
    },
    "colab_type": "code",
    "executionInfo": {
     "elapsed": 3823,
     "status": "ok",
     "timestamp": 1587229562509,
     "user": {
      "displayName": "Honoka Suzuki",
      "photoUrl": "",
      "userId": "00944444760637272308"
     },
     "user_tz": 240
    },
    "id": "SRFBF8uj84v6",
    "outputId": "2665c14c-b8d2-42b8-e122-7001658fb7fb"
   },
   "outputs": [
    {
     "name": "stdout",
     "output_type": "stream",
     "text": [
      "(6499, 23)\n",
      "(1625, 23)\n"
     ]
    }
   ],
   "source": [
    "import pandas as pd\n",
    "import torch\n",
    "import torch.nn as nn\n",
    "import numpy as np\n",
    "import torchvision \n",
    "import torchvision.transforms as transforms \n",
    "import matplotlib.pyplot as plt\n",
    "import csv\n",
    "from time import time as tm\n",
    "from sklearn.model_selection import train_test_split\n",
    "\n",
    "# import data\n",
    "full_data = pd.read_csv('mushroom_clean.csv')\n",
    "\n",
    "# create training and test sets\n",
    "np.random.seed(0)\n",
    "train, test = train_test_split(full_data, test_size = 0.2)\n",
    "\n",
    "print(train.shape)\n",
    "print(test.shape)"
   ]
  },
  {
   "cell_type": "code",
   "execution_count": 2,
   "metadata": {
    "colab": {},
    "colab_type": "code",
    "id": "HS1PLP_SQes0"
   },
   "outputs": [],
   "source": [
    "# set hyperparameters\n",
    "num_epochs = 25 # Number of times to go through training data\n",
    "batch_size = 250 # Batch size\n",
    "epsilon = .001 # Learning rate\n",
    "test_batch_size = 300 # Batch size to use for test set\n",
    "\n",
    "# convert data into tensor\n",
    "train_target = torch.tensor(train['class'].values.astype(np.int0))\n",
    "train_features = torch.tensor(train.drop('class', axis = 1).values.astype(np.float32)) \n",
    "train_tensor = torch.utils.data.TensorDataset(train_features, train_target) \n",
    "train_loader = torch.utils.data.DataLoader(dataset = train_tensor, \n",
    "                                           batch_size = batch_size, \n",
    "                                           shuffle = True)\n",
    "\n",
    "test_target = torch.tensor(test['class'].values.astype(np.int0))\n",
    "test_features = torch.tensor(test.drop('class', axis = 1).values.astype(np.float32)) \n",
    "test_tensor = torch.utils.data.TensorDataset(test_features, test_target) \n",
    "test_loader = torch.utils.data.DataLoader(dataset = test_tensor, \n",
    "                                           batch_size = test_batch_size, \n",
    "                                           shuffle = True)"
   ]
  },
  {
   "cell_type": "code",
   "execution_count": 3,
   "metadata": {
    "colab": {
     "base_uri": "https://localhost:8080/",
     "height": 51
    },
    "colab_type": "code",
    "executionInfo": {
     "elapsed": 568,
     "status": "ok",
     "timestamp": 1587175273264,
     "user": {
      "displayName": "Jacob Chang",
      "photoUrl": "",
      "userId": "04175732116568215780"
     },
     "user_tz": 240
    },
    "id": "sNYKKwNwQkUy",
    "outputId": "bb685b86-067b-4a31-8cfd-1d52f771f766"
   },
   "outputs": [
    {
     "name": "stdout",
     "output_type": "stream",
     "text": [
      "Size of one X batch= torch.Size([250, 22])\n",
      "Size of one Y batch= torch.Size([250])\n"
     ]
    }
   ],
   "source": [
    "# get a batch of data by defining an iterator \n",
    "torch.manual_seed(0)\n",
    "TrainingIterator = iter(train_loader)\n",
    "X, Y = next(TrainingIterator)\n",
    "X = X.squeeze()\n",
    "print(\"Size of one X batch=\", X.size())\n",
    "print(\"Size of one Y batch=\", Y.size())"
   ]
  },
  {
   "cell_type": "code",
   "execution_count": 16,
   "metadata": {
    "colab": {
     "base_uri": "https://localhost:8080/",
     "height": 34
    },
    "colab_type": "code",
    "executionInfo": {
     "elapsed": 342,
     "status": "ok",
     "timestamp": 1587175276310,
     "user": {
      "displayName": "Jacob Chang",
      "photoUrl": "",
      "userId": "04175732116568215780"
     },
     "user_tz": 240
    },
    "id": "7s5LKYA_ADro",
    "outputId": "6e8ac7c5-ce7f-4a8c-daa5-670d225b9ff9"
   },
   "outputs": [
    {
     "name": "stdout",
     "output_type": "stream",
     "text": [
      "Number of parameters in model = 516\n"
     ]
    }
   ],
   "source": [
    "# network architecture\n",
    "class mushroom_classifier(nn.Module):\n",
    "    def __init__(self):\n",
    "        super(mushroom_classifier, self).__init__()\n",
    "        self.Lin1 = nn.Linear(22, 15)\n",
    "        self.Lin2 = nn.Linear(15,10)\n",
    "        self.Lin3 = nn.Linear(10,1)\n",
    "        self.relu = nn.ReLU()\n",
    "        self.sigmoid = nn.Sigmoid()\n",
    "\n",
    "    def forward(self, x):\n",
    "        out = self.Lin1(x)\n",
    "        out = self.relu(out)\n",
    "        out = self.Lin2(out)\n",
    "        out = self.relu(out)\n",
    "        out = self.Lin3(out)\n",
    "        out = self.sigmoid(out)\n",
    "        return out\n",
    "\n",
    "device='cpu'\n",
    "model = mushroom_classifier().to(device)\n",
    "\n",
    "# a custom binary cross entropy function that can specify class costs\n",
    "def weighted_binary_cross_entropy(y_hat, y, costs=None):   \n",
    "    if costs is not None:\n",
    "        loss = costs[1] * (y * torch.log(y_hat)) + costs[0] * ((1 - y) * torch.log(1 - y_hat))\n",
    "    else:\n",
    "        loss = y * torch.log(y_hat) + (1 - y) * torch.log(1 - y_hat)\n",
    "    return torch.neg(torch.mean(loss))\n",
    "\n",
    "# convert class costs to tensor\n",
    "costs = [1.0, 2.0] # false positive, false negative\n",
    "class_costs = torch.FloatTensor(costs)\n",
    "\n",
    "# use Adam to optimize\n",
    "optimizer = torch.optim.Adam(model.parameters(), lr = epsilon)\n",
    "\n",
    "# compute and print number of trainable parameters\n",
    "NumParams = sum(p.numel() for p in model.parameters() if p.requires_grad)\n",
    "print('Number of parameters in model =', NumParams)"
   ]
  },
  {
   "cell_type": "code",
   "execution_count": 17,
   "metadata": {
    "colab": {
     "base_uri": "https://localhost:8080/",
     "height": 68
    },
    "colab_type": "code",
    "executionInfo": {
     "elapsed": 413,
     "status": "ok",
     "timestamp": 1587175279211,
     "user": {
      "displayName": "Jacob Chang",
      "photoUrl": "",
      "userId": "04175732116568215780"
     },
     "user_tz": 240
    },
    "id": "l2tCacHkS7US",
    "outputId": "0b1b4d46-8325-4e21-88b5-704454a2f2d4"
   },
   "outputs": [
    {
     "name": "stdout",
     "output_type": "stream",
     "text": [
      "steps per epoch= 26 \n",
      "num epochs= 25 \n",
      "total number of steps= 650\n"
     ]
    }
   ],
   "source": [
    "steps_per_epoch = len(train_loader)\n",
    "total_num_steps = num_epochs*steps_per_epoch\n",
    "LossesToPlot = np.zeros(total_num_steps) # Initialize vector of losses\n",
    "print(\"steps per epoch=\", steps_per_epoch, \"\\nnum epochs=\", num_epochs, \"\\ntotal number of steps=\", total_num_steps)"
   ]
  },
  {
   "cell_type": "code",
   "execution_count": 18,
   "metadata": {
    "colab": {
     "base_uri": "https://localhost:8080/",
     "height": 34
    },
    "colab_type": "code",
    "executionInfo": {
     "elapsed": 4055,
     "status": "ok",
     "timestamp": 1587175286157,
     "user": {
      "displayName": "Jacob Chang",
      "photoUrl": "",
      "userId": "04175732116568215780"
     },
     "user_tz": 240
    },
    "id": "l0OSmmI_ZV2R",
    "outputId": "ec9fb37a-a51a-4f18-cef7-b90c2c56853d"
   },
   "outputs": [
    {
     "name": "stdout",
     "output_type": "stream",
     "text": [
      "Training time= 16.994007110595703 sec= 0.6797602844238281 sec/epoch= 0.02614462632399339 sec/step\n"
     ]
    }
   ],
   "source": [
    "# initialize test losses\n",
    "TestLosses = np.zeros(total_num_steps)\n",
    "\n",
    "j = 0\n",
    "t1 = tm()\n",
    "\n",
    "for k in range(num_epochs):\n",
    "    \n",
    "    np.random.seed(k)\n",
    "    TrainingIterator = iter(train_loader)\n",
    "    \n",
    "    for i in range(steps_per_epoch):\n",
    "        # get one batch of training data and send it to the current device        \n",
    "        X,Y = next(TrainingIterator)\n",
    "        X = X.to(device)\n",
    "        Y = Y.to(device)\n",
    "      \n",
    "        # forward pass: compute yhat and loss for this batch\n",
    "        Yhat = model(X)\n",
    "        Yhat = Yhat.squeeze()\n",
    "        Loss = weighted_binary_cross_entropy(Yhat, Y, costs=class_costs)\n",
    "       \n",
    "        # backward pass and optimize\n",
    "        optimizer.zero_grad() # zero-out gradients from last iteration\n",
    "        Loss.backward()       # compute gradients\n",
    "        optimizer.step()      # update parameters\n",
    "        \n",
    "        # store loss and increment counter\n",
    "        LossesToPlot[j]=Loss.item()\n",
    "\n",
    "        # compute test losses\n",
    "        with torch.no_grad():\n",
    "            TestingIterator = iter(test_loader)\n",
    "            X,Y = next(TestingIterator)\n",
    "            X = X.to(device)\n",
    "            Y = Y.to(device)\n",
    "            Yhat = model(X)\n",
    "            Yhat = Yhat.squeeze() \n",
    "            TestLosses[j] = weighted_binary_cross_entropy(Yhat, Y, costs = class_costs).item()  \n",
    "\n",
    "        j+=1\n",
    "       \n",
    "t2 = tm()   \n",
    "\n",
    "print(\"Training time=\",t2-t1,\"sec=\",(t2-t1)/num_epochs,\"sec/epoch=\",(t2-t1)/total_num_steps,\"sec/step\")\n"
   ]
  },
  {
   "cell_type": "code",
   "execution_count": 19,
   "metadata": {
    "colab": {
     "base_uri": "https://localhost:8080/",
     "height": 279
    },
    "colab_type": "code",
    "executionInfo": {
     "elapsed": 612,
     "status": "ok",
     "timestamp": 1587175289236,
     "user": {
      "displayName": "Jacob Chang",
      "photoUrl": "",
      "userId": "04175732116568215780"
     },
     "user_tz": 240
    },
    "id": "5CRgQ8xOi_VX",
    "outputId": "68e6c287-ef00-4ff7-b4db-d976714e9423"
   },
   "outputs": [
    {
     "data": {
      "text/plain": [
       "<matplotlib.legend.Legend at 0x2113c159c88>"
      ]
     },
     "execution_count": 19,
     "metadata": {},
     "output_type": "execute_result"
    },
    {
     "data": {
      "image/png": "[encoded data removed]",
      "text/plain": [
       "<Figure size 432x288 with 1 Axes>"
      ]
     },
     "metadata": {
      "needs_background": "light"
     },
     "output_type": "display_data"
    }
   ],
   "source": [
    "# plot losses\n",
    "plt.plot(LossesToPlot)\n",
    "plt.xlabel(\"Iteration\")\n",
    "plt.ylabel(\"Loss\")\n",
    "\n",
    "# plot test losses\n",
    "plt.plot(TestLosses)\n",
    "plt.legend(['Training','Testing'])"
   ]
  },
  {
   "cell_type": "code",
   "execution_count": 20,
   "metadata": {
    "colab": {
     "base_uri": "https://localhost:8080/",
     "height": 51
    },
    "colab_type": "code",
    "executionInfo": {
     "elapsed": 335,
     "status": "ok",
     "timestamp": 1587175296488,
     "user": {
      "displayName": "Jacob Chang",
      "photoUrl": "",
      "userId": "04175732116568215780"
     },
     "user_tz": 240
    },
    "id": "HEJpn-kjjGCp",
    "outputId": "36dd753d-a9f6-4e6b-871e-a9574d096d50"
   },
   "outputs": [
    {
     "name": "stdout",
     "output_type": "stream",
     "text": [
      "Percent of training mushrooms misclassified: 2.523465148484383 %\n",
      "Percent of testing mushrooms misclassified:  2.3384615384615337 %\n"
     ]
    }
   ],
   "source": [
    "# misclassifications on training & test sets\n",
    "with torch.no_grad():\n",
    "    X=train_features.to(device)\n",
    "    Y=train_target.to(device)\n",
    "    Yhat=model(X.float())\n",
    "    PredictedClass = torch.round(Yhat).squeeze()\n",
    "    TrainingMisclassRate = 1-(PredictedClass == Y).sum().item()/Y.size(0)\n",
    "    print('Percent of training mushrooms misclassified: {} %'.format(100*TrainingMisclassRate))\n",
    "\n",
    "    Xtest=test_features.to(device)\n",
    "    Ytest=test_target.to(device)\n",
    "    YhatTest=model(Xtest.float())\n",
    "    PredictedClassTest = torch.round(YhatTest).squeeze()\n",
    "    TestMisclassRate = 1-(PredictedClassTest == Ytest).sum().item()/Ytest.size(0)\n",
    "    print('Percent of testing mushrooms misclassified:  {} %'.format(100*TestMisclassRate))"
   ]
  },
  {
   "cell_type": "code",
   "execution_count": 21,
   "metadata": {
    "colab": {
     "base_uri": "https://localhost:8080/",
     "height": 85
    },
    "colab_type": "code",
    "executionInfo": {
     "elapsed": 335,
     "status": "ok",
     "timestamp": 1587173774816,
     "user": {
      "displayName": "Jacob Chang",
      "photoUrl": "",
      "userId": "04175732116568215780"
     },
     "user_tz": 240
    },
    "id": "RObnRvhV1vpm",
    "outputId": "6f847e56-e818-4745-87ca-f007a204ed6c"
   },
   "outputs": [
    {
     "name": "stdout",
     "output_type": "stream",
     "text": [
      "Percent of poisonous training mushrooms misclassified: 0.7636016544702513 %\n",
      "Percent of edible training mushrooms misclassified: 4.171632896305125 %\n",
      "Percent of poisonous test mushrooms misclassified: 0.7761966364812419 %\n",
      "Percent of edible test mushrooms misclassified: 3.755868544600939 %\n"
     ]
    }
   ],
   "source": [
    "# convert y and yhat to numpy objects\n",
    "Y_np = Y.cpu().data.numpy()\n",
    "Y_hat_np = PredictedClass.cpu().data.numpy()\n",
    "\n",
    "# subset yhat to contain only indices where the true label is 'poisonous'\n",
    "Yhat_poison = Y_hat_np[Y_np == 1]\n",
    "# Misclassification rate of poisonous mushrooms\n",
    "print('Percent of poisonous training mushrooms misclassified: {} %'.format(100*sum(Yhat_poison != 1)/sum(Y_np == 1)))\n",
    "\n",
    "# subset yhat to contain only indices where the true label is 'edible'\n",
    "Yhat_edible = Y_hat_np[Y_np == 0]\n",
    "# misclassification rate of edible mushrooms\n",
    "print('Percent of edible training mushrooms misclassified: {} %'.format(100*sum(Yhat_edible != 0)/sum(Y_np == 0)))\n",
    "\n",
    "#############\n",
    "\n",
    "# repeat above steps for test set\n",
    "\n",
    "# convert y and yhat to numpy objects\n",
    "Ytest_np = Ytest.cpu().data.numpy()\n",
    "Y_hat_test_np = PredictedClassTest.cpu().data.numpy()\n",
    "\n",
    "# subset yhat to contain only indices where the true label is 'poisonous'\n",
    "Yhat_test_poison = Y_hat_test_np[Ytest_np == 1]\n",
    "# Misclassification rate of poisonous mushrooms\n",
    "print('Percent of poisonous test mushrooms misclassified: {} %'.format(100*sum(Yhat_test_poison != 1)/sum(Ytest_np == 1)))\n",
    "\n",
    "# subset yhat to contain only indices where the true label is 'edible'\n",
    "Yhat_test_edible = Y_hat_test_np[Ytest_np == 0]\n",
    "# misclassification rate of edible mushrooms\n",
    "print('Percent of edible test mushrooms misclassified: {} %'.format(100*sum(Yhat_test_edible != 0)/sum(Ytest_np == 0)))"
   ]
  },
  {
   "cell_type": "code",
   "execution_count": 10,
   "metadata": {
    "colab": {
     "base_uri": "https://localhost:8080/",
     "height": 85
    },
    "colab_type": "code",
    "executionInfo": {
     "elapsed": 380,
     "status": "ok",
     "timestamp": 1587172021869,
     "user": {
      "displayName": "Jacob Chang",
      "photoUrl": "",
      "userId": "04175732116568215780"
     },
     "user_tz": 240
    },
    "id": "8ng64Qmkt51R",
    "outputId": "222c24b0-c3be-4ea5-aefb-24c5a4522bc3"
   },
   "outputs": [
    {
     "name": "stdout",
     "output_type": "stream",
     "text": [
      "[[3161  195]\n",
      " [  39 3104]]\n",
      "[[807  45]\n",
      " [  6 767]]\n"
     ]
    }
   ],
   "source": [
    "# confusion matrix for training data\n",
    "from sklearn import metrics\n",
    "print(metrics.confusion_matrix(y_true = Y.cpu().data.numpy(), y_pred = PredictedClass.cpu().data.numpy()))\n",
    "\n",
    "# confusion matrix for test data\n",
    "print(metrics.confusion_matrix(y_true = Ytest.cpu().data.numpy(), y_pred = PredictedClassTest.cpu().data.numpy()))"
   ]
  }
 ],
 "metadata": {
  "colab": {
   "collapsed_sections": [],
   "name": "new_final_project.ipynb",
   "provenance": [
    {
     "file_id": "1RLmra2xBWH4FmG1oOZSOeziJig5nDjvF",
     "timestamp": 1587169915199
    }
   ]
  },
  "kernelspec": {
   "display_name": "Python 3",
   "language": "python",
   "name": "python3"
  },
  "language_info": {
   "codemirror_mode": {
    "name": "ipython",
    "version": 3
   },
   "file_extension": ".py",
   "mimetype": "text/x-python",
   "name": "python",
   "nbconvert_exporter": "python",
   "pygments_lexer": "ipython3",
   "version": "3.7.3"
  }
 },
 "nbformat": 4,
 "nbformat_minor": 1
}
